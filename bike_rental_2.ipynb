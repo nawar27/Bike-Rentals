{
 "cells": [
  {
   "cell_type": "code",
   "execution_count": 1,
   "id": "c8b0db29",
   "metadata": {},
   "outputs": [],
   "source": [
    "# load data\n",
    "import pandas as pd\n",
    "import numpy as np\n",
    "\n",
    "# visualization\n",
    "import matplotlib.pyplot as plt\n",
    "\n",
    "from matplotlib.pyplot import figure"
   ]
  },
  {
   "cell_type": "markdown",
   "id": "48c92310",
   "metadata": {},
   "source": [
    "## A micro-mobility service provider"
   ]
  },
  {
   "cell_type": "markdown",
   "id": "08576299",
   "metadata": {},
   "source": [
    "Yulu operates shared electric bicycles across Indian cities, with zones located at high-demand areas such as metro stations, bus stops, office complexes, residential neighborhoods, and corporate campuses to support seamless first-mile and last-mile transportation. \n",
    "\n",
    "In this case, I want to check if working day has an effect on the number of electric cycles rented. This dataset comes from this [Bike rentals](https://www.kaggle.com/datasets/sreekargv/bike-rentals)"
   ]
  },
  {
   "cell_type": "markdown",
   "id": "2a9a3659",
   "metadata": {},
   "source": [
    "### Loading data into Dataframe\n",
    "\n",
    "First of all, we should take a look at our dataset\n",
    "- Check Missing Value and handle it if any\n",
    "- Check duplicates and handle it"
   ]
  },
  {
   "cell_type": "code",
   "execution_count": 2,
   "id": "aa465c06",
   "metadata": {},
   "outputs": [],
   "source": [
    "csv_path = 'Yulu.csv'\n",
    "df = pd.read_csv(csv_path, delimiter=',')"
   ]
  },
  {
   "cell_type": "code",
   "execution_count": 3,
   "id": "35a6225f",
   "metadata": {},
   "outputs": [
    {
     "data": {
      "text/html": [
       "<div>\n",
       "<style scoped>\n",
       "    .dataframe tbody tr th:only-of-type {\n",
       "        vertical-align: middle;\n",
       "    }\n",
       "\n",
       "    .dataframe tbody tr th {\n",
       "        vertical-align: top;\n",
       "    }\n",
       "\n",
       "    .dataframe thead th {\n",
       "        text-align: right;\n",
       "    }\n",
       "</style>\n",
       "<table border=\"1\" class=\"dataframe\">\n",
       "  <thead>\n",
       "    <tr style=\"text-align: right;\">\n",
       "      <th></th>\n",
       "      <th>datetime</th>\n",
       "      <th>season</th>\n",
       "      <th>holiday</th>\n",
       "      <th>workingday</th>\n",
       "      <th>weather</th>\n",
       "      <th>temp</th>\n",
       "      <th>atemp</th>\n",
       "      <th>humidity</th>\n",
       "      <th>windspeed</th>\n",
       "      <th>casual</th>\n",
       "      <th>registered</th>\n",
       "      <th>count</th>\n",
       "    </tr>\n",
       "  </thead>\n",
       "  <tbody>\n",
       "    <tr>\n",
       "      <th>0</th>\n",
       "      <td>2011-01-01 00:00:00</td>\n",
       "      <td>1</td>\n",
       "      <td>0</td>\n",
       "      <td>0</td>\n",
       "      <td>1</td>\n",
       "      <td>9.84</td>\n",
       "      <td>14.395</td>\n",
       "      <td>81</td>\n",
       "      <td>0.0</td>\n",
       "      <td>3</td>\n",
       "      <td>13</td>\n",
       "      <td>16</td>\n",
       "    </tr>\n",
       "    <tr>\n",
       "      <th>1</th>\n",
       "      <td>2011-01-01 01:00:00</td>\n",
       "      <td>1</td>\n",
       "      <td>0</td>\n",
       "      <td>0</td>\n",
       "      <td>1</td>\n",
       "      <td>9.02</td>\n",
       "      <td>13.635</td>\n",
       "      <td>80</td>\n",
       "      <td>0.0</td>\n",
       "      <td>8</td>\n",
       "      <td>32</td>\n",
       "      <td>40</td>\n",
       "    </tr>\n",
       "    <tr>\n",
       "      <th>2</th>\n",
       "      <td>2011-01-01 02:00:00</td>\n",
       "      <td>1</td>\n",
       "      <td>0</td>\n",
       "      <td>0</td>\n",
       "      <td>1</td>\n",
       "      <td>9.02</td>\n",
       "      <td>13.635</td>\n",
       "      <td>80</td>\n",
       "      <td>0.0</td>\n",
       "      <td>5</td>\n",
       "      <td>27</td>\n",
       "      <td>32</td>\n",
       "    </tr>\n",
       "    <tr>\n",
       "      <th>3</th>\n",
       "      <td>2011-01-01 03:00:00</td>\n",
       "      <td>1</td>\n",
       "      <td>0</td>\n",
       "      <td>0</td>\n",
       "      <td>1</td>\n",
       "      <td>9.84</td>\n",
       "      <td>14.395</td>\n",
       "      <td>75</td>\n",
       "      <td>0.0</td>\n",
       "      <td>3</td>\n",
       "      <td>10</td>\n",
       "      <td>13</td>\n",
       "    </tr>\n",
       "    <tr>\n",
       "      <th>4</th>\n",
       "      <td>2011-01-01 04:00:00</td>\n",
       "      <td>1</td>\n",
       "      <td>0</td>\n",
       "      <td>0</td>\n",
       "      <td>1</td>\n",
       "      <td>9.84</td>\n",
       "      <td>14.395</td>\n",
       "      <td>75</td>\n",
       "      <td>0.0</td>\n",
       "      <td>0</td>\n",
       "      <td>1</td>\n",
       "      <td>1</td>\n",
       "    </tr>\n",
       "  </tbody>\n",
       "</table>\n",
       "</div>"
      ],
      "text/plain": [
       "              datetime  season  holiday  workingday  weather  temp   atemp  \\\n",
       "0  2011-01-01 00:00:00       1        0           0        1  9.84  14.395   \n",
       "1  2011-01-01 01:00:00       1        0           0        1  9.02  13.635   \n",
       "2  2011-01-01 02:00:00       1        0           0        1  9.02  13.635   \n",
       "3  2011-01-01 03:00:00       1        0           0        1  9.84  14.395   \n",
       "4  2011-01-01 04:00:00       1        0           0        1  9.84  14.395   \n",
       "\n",
       "   humidity  windspeed  casual  registered  count  \n",
       "0        81        0.0       3          13     16  \n",
       "1        80        0.0       8          32     40  \n",
       "2        80        0.0       5          27     32  \n",
       "3        75        0.0       3          10     13  \n",
       "4        75        0.0       0           1      1  "
      ]
     },
     "execution_count": 3,
     "metadata": {},
     "output_type": "execute_result"
    }
   ],
   "source": [
    "df.head()"
   ]
  },
  {
   "cell_type": "code",
   "execution_count": 4,
   "id": "13612e27",
   "metadata": {},
   "outputs": [
    {
     "data": {
      "text/html": [
       "<div>\n",
       "<style scoped>\n",
       "    .dataframe tbody tr th:only-of-type {\n",
       "        vertical-align: middle;\n",
       "    }\n",
       "\n",
       "    .dataframe tbody tr th {\n",
       "        vertical-align: top;\n",
       "    }\n",
       "\n",
       "    .dataframe thead th {\n",
       "        text-align: right;\n",
       "    }\n",
       "</style>\n",
       "<table border=\"1\" class=\"dataframe\">\n",
       "  <thead>\n",
       "    <tr style=\"text-align: right;\">\n",
       "      <th></th>\n",
       "      <th>count</th>\n",
       "      <th>mean</th>\n",
       "      <th>std</th>\n",
       "      <th>min</th>\n",
       "      <th>25%</th>\n",
       "      <th>50%</th>\n",
       "      <th>75%</th>\n",
       "      <th>max</th>\n",
       "    </tr>\n",
       "  </thead>\n",
       "  <tbody>\n",
       "    <tr>\n",
       "      <th>season</th>\n",
       "      <td>10886.0</td>\n",
       "      <td>2.506614</td>\n",
       "      <td>1.116174</td>\n",
       "      <td>1.00</td>\n",
       "      <td>2.0000</td>\n",
       "      <td>3.000</td>\n",
       "      <td>4.0000</td>\n",
       "      <td>4.0000</td>\n",
       "    </tr>\n",
       "    <tr>\n",
       "      <th>holiday</th>\n",
       "      <td>10886.0</td>\n",
       "      <td>0.028569</td>\n",
       "      <td>0.166599</td>\n",
       "      <td>0.00</td>\n",
       "      <td>0.0000</td>\n",
       "      <td>0.000</td>\n",
       "      <td>0.0000</td>\n",
       "      <td>1.0000</td>\n",
       "    </tr>\n",
       "    <tr>\n",
       "      <th>workingday</th>\n",
       "      <td>10886.0</td>\n",
       "      <td>0.680875</td>\n",
       "      <td>0.466159</td>\n",
       "      <td>0.00</td>\n",
       "      <td>0.0000</td>\n",
       "      <td>1.000</td>\n",
       "      <td>1.0000</td>\n",
       "      <td>1.0000</td>\n",
       "    </tr>\n",
       "    <tr>\n",
       "      <th>weather</th>\n",
       "      <td>10886.0</td>\n",
       "      <td>1.418427</td>\n",
       "      <td>0.633839</td>\n",
       "      <td>1.00</td>\n",
       "      <td>1.0000</td>\n",
       "      <td>1.000</td>\n",
       "      <td>2.0000</td>\n",
       "      <td>4.0000</td>\n",
       "    </tr>\n",
       "    <tr>\n",
       "      <th>temp</th>\n",
       "      <td>10886.0</td>\n",
       "      <td>20.230860</td>\n",
       "      <td>7.791590</td>\n",
       "      <td>0.82</td>\n",
       "      <td>13.9400</td>\n",
       "      <td>20.500</td>\n",
       "      <td>26.2400</td>\n",
       "      <td>41.0000</td>\n",
       "    </tr>\n",
       "    <tr>\n",
       "      <th>atemp</th>\n",
       "      <td>10886.0</td>\n",
       "      <td>23.655084</td>\n",
       "      <td>8.474601</td>\n",
       "      <td>0.76</td>\n",
       "      <td>16.6650</td>\n",
       "      <td>24.240</td>\n",
       "      <td>31.0600</td>\n",
       "      <td>45.4550</td>\n",
       "    </tr>\n",
       "    <tr>\n",
       "      <th>humidity</th>\n",
       "      <td>10886.0</td>\n",
       "      <td>61.886460</td>\n",
       "      <td>19.245033</td>\n",
       "      <td>0.00</td>\n",
       "      <td>47.0000</td>\n",
       "      <td>62.000</td>\n",
       "      <td>77.0000</td>\n",
       "      <td>100.0000</td>\n",
       "    </tr>\n",
       "    <tr>\n",
       "      <th>windspeed</th>\n",
       "      <td>10886.0</td>\n",
       "      <td>12.799395</td>\n",
       "      <td>8.164537</td>\n",
       "      <td>0.00</td>\n",
       "      <td>7.0015</td>\n",
       "      <td>12.998</td>\n",
       "      <td>16.9979</td>\n",
       "      <td>56.9969</td>\n",
       "    </tr>\n",
       "    <tr>\n",
       "      <th>casual</th>\n",
       "      <td>10886.0</td>\n",
       "      <td>36.021955</td>\n",
       "      <td>49.960477</td>\n",
       "      <td>0.00</td>\n",
       "      <td>4.0000</td>\n",
       "      <td>17.000</td>\n",
       "      <td>49.0000</td>\n",
       "      <td>367.0000</td>\n",
       "    </tr>\n",
       "    <tr>\n",
       "      <th>registered</th>\n",
       "      <td>10886.0</td>\n",
       "      <td>155.552177</td>\n",
       "      <td>151.039033</td>\n",
       "      <td>0.00</td>\n",
       "      <td>36.0000</td>\n",
       "      <td>118.000</td>\n",
       "      <td>222.0000</td>\n",
       "      <td>886.0000</td>\n",
       "    </tr>\n",
       "    <tr>\n",
       "      <th>count</th>\n",
       "      <td>10886.0</td>\n",
       "      <td>191.574132</td>\n",
       "      <td>181.144454</td>\n",
       "      <td>1.00</td>\n",
       "      <td>42.0000</td>\n",
       "      <td>145.000</td>\n",
       "      <td>284.0000</td>\n",
       "      <td>977.0000</td>\n",
       "    </tr>\n",
       "  </tbody>\n",
       "</table>\n",
       "</div>"
      ],
      "text/plain": [
       "              count        mean         std   min      25%      50%       75%  \\\n",
       "season      10886.0    2.506614    1.116174  1.00   2.0000    3.000    4.0000   \n",
       "holiday     10886.0    0.028569    0.166599  0.00   0.0000    0.000    0.0000   \n",
       "workingday  10886.0    0.680875    0.466159  0.00   0.0000    1.000    1.0000   \n",
       "weather     10886.0    1.418427    0.633839  1.00   1.0000    1.000    2.0000   \n",
       "temp        10886.0   20.230860    7.791590  0.82  13.9400   20.500   26.2400   \n",
       "atemp       10886.0   23.655084    8.474601  0.76  16.6650   24.240   31.0600   \n",
       "humidity    10886.0   61.886460   19.245033  0.00  47.0000   62.000   77.0000   \n",
       "windspeed   10886.0   12.799395    8.164537  0.00   7.0015   12.998   16.9979   \n",
       "casual      10886.0   36.021955   49.960477  0.00   4.0000   17.000   49.0000   \n",
       "registered  10886.0  155.552177  151.039033  0.00  36.0000  118.000  222.0000   \n",
       "count       10886.0  191.574132  181.144454  1.00  42.0000  145.000  284.0000   \n",
       "\n",
       "                 max  \n",
       "season        4.0000  \n",
       "holiday       1.0000  \n",
       "workingday    1.0000  \n",
       "weather       4.0000  \n",
       "temp         41.0000  \n",
       "atemp        45.4550  \n",
       "humidity    100.0000  \n",
       "windspeed    56.9969  \n",
       "casual      367.0000  \n",
       "registered  886.0000  \n",
       "count       977.0000  "
      ]
     },
     "execution_count": 4,
     "metadata": {},
     "output_type": "execute_result"
    }
   ],
   "source": [
    "df.describe().transpose()"
   ]
  },
  {
   "cell_type": "code",
   "execution_count": 5,
   "id": "99240a29",
   "metadata": {},
   "outputs": [
    {
     "name": "stdout",
     "output_type": "stream",
     "text": [
      "rows: 10886 \\ n columns: (10886, 12)[1]\n"
     ]
    }
   ],
   "source": [
    "# no of rows and columns in dataset\n",
    "print(f'rows: {df.shape[0]} \\ n columns: {df.shape}[1]')"
   ]
  },
  {
   "cell_type": "markdown",
   "id": "3b81f49f",
   "metadata": {},
   "source": [
    "- we can overview all variables and datatypes in our dataset"
   ]
  },
  {
   "cell_type": "code",
   "execution_count": 6,
   "id": "360b73d9",
   "metadata": {},
   "outputs": [
    {
     "name": "stdout",
     "output_type": "stream",
     "text": [
      "<class 'pandas.core.frame.DataFrame'>\n",
      "RangeIndex: 10886 entries, 0 to 10885\n",
      "Data columns (total 12 columns):\n",
      " #   Column      Non-Null Count  Dtype  \n",
      "---  ------      --------------  -----  \n",
      " 0   datetime    10886 non-null  object \n",
      " 1   season      10886 non-null  int64  \n",
      " 2   holiday     10886 non-null  int64  \n",
      " 3   workingday  10886 non-null  int64  \n",
      " 4   weather     10886 non-null  int64  \n",
      " 5   temp        10886 non-null  float64\n",
      " 6   atemp       10886 non-null  float64\n",
      " 7   humidity    10886 non-null  int64  \n",
      " 8   windspeed   10886 non-null  float64\n",
      " 9   casual      10886 non-null  int64  \n",
      " 10  registered  10886 non-null  int64  \n",
      " 11  count       10886 non-null  int64  \n",
      "dtypes: float64(3), int64(8), object(1)\n",
      "memory usage: 1020.7+ KB\n"
     ]
    }
   ],
   "source": [
    "df.info()"
   ]
  },
  {
   "cell_type": "markdown",
   "id": "c2c1213c",
   "metadata": {},
   "source": [
    "- Checking for missing values in the dataset."
   ]
  },
  {
   "cell_type": "code",
   "execution_count": 7,
   "id": "114539a5",
   "metadata": {},
   "outputs": [
    {
     "data": {
      "text/plain": [
       "datetime      0\n",
       "season        0\n",
       "holiday       0\n",
       "workingday    0\n",
       "weather       0\n",
       "temp          0\n",
       "atemp         0\n",
       "humidity      0\n",
       "windspeed     0\n",
       "casual        0\n",
       "registered    0\n",
       "count         0\n",
       "dtype: int64"
      ]
     },
     "execution_count": 7,
     "metadata": {},
     "output_type": "execute_result"
    }
   ],
   "source": [
    "df.isnull().sum()"
   ]
  },
  {
   "cell_type": "code",
   "execution_count": 8,
   "id": "a9bec419",
   "metadata": {},
   "outputs": [
    {
     "data": {
      "text/plain": [
       "0"
      ]
     },
     "execution_count": 8,
     "metadata": {},
     "output_type": "execute_result"
    }
   ],
   "source": [
    "df.duplicated().sum()"
   ]
  },
  {
   "cell_type": "markdown",
   "id": "78bb64d9",
   "metadata": {},
   "source": [
    "The dataset contains no missing values or duplicate entries."
   ]
  },
  {
   "cell_type": "markdown",
   "id": "d5364913",
   "metadata": {},
   "source": [
    "## Define Null & Alternate Hypothesis\n",
    "\n",
    "First of all, stating Null hypothesis ($H_0$), alternative hypothesis ($H_1$), and significance level\n",
    "\n",
    "$H_0$: The bike's renting in working days and non- working days are equal.\n",
    "$$ H_0:\\mu_A = \\mu_B $$\n",
    "\n",
    "$H_1$: The bike's renting cnt in working days and non- working days are not equal.\n",
    "$$ H_1:\\mu_A \\geq \\mu_B $$\n",
    "\n",
    "The significance level (α) is set to 0.05."
   ]
  },
  {
   "cell_type": "markdown",
   "id": "23e851be",
   "metadata": {},
   "source": [
    "### Preanalysis\n",
    "\n",
    "Count the number of bike sharing in workingday vs holidays"
   ]
  },
  {
   "cell_type": "code",
   "execution_count": 9,
   "id": "eb82a6cd",
   "metadata": {},
   "outputs": [],
   "source": [
    "df_groupby = df.groupby('holiday')['count'].sum()"
   ]
  },
  {
   "cell_type": "code",
   "execution_count": 10,
   "id": "a9c18f51",
   "metadata": {},
   "outputs": [
    {
     "data": {
      "text/plain": [
       "holiday\n",
       "0    2027668\n",
       "1      57808\n",
       "Name: count, dtype: int64"
      ]
     },
     "execution_count": 10,
     "metadata": {},
     "output_type": "execute_result"
    }
   ],
   "source": [
    "df_groupby"
   ]
  },
  {
   "cell_type": "markdown",
   "id": "5d89dca6",
   "metadata": {},
   "source": [
    "- Count = Count of bikes rent\n",
    "- The total number of bike rentals is significantly higher on non-holidays compared to holidays.\n",
    "- Bike rentals tend to be lower on holidays"
   ]
  },
  {
   "cell_type": "code",
   "execution_count": 11,
   "id": "bb08d60a",
   "metadata": {},
   "outputs": [
    {
     "data": {
      "image/png": "[encoded data removed]",
      "text/plain": [
       "<Figure size 800x600 with 1 Axes>"
      ]
     },
     "metadata": {},
     "output_type": "display_data"
    }
   ],
   "source": [
    "import matplotlib.pyplot as plt\n",
    "\n",
    "# Data\n",
    "labels = ['Working Day', 'Holiday']\n",
    "counts = df_groupby\n",
    "\n",
    "# Plotting\n",
    "plt.figure(figsize=(8, 6))\n",
    "bars = plt.bar(labels, counts, color=['skyblue', 'lightcoral'])\n",
    "\n",
    "# Adding values on top of the bars\n",
    "for bar in bars:\n",
    "    yval = bar.get_height()\n",
    "    plt.text(bar.get_x() + bar.get_width()/2, yval + 20000, f'{yval:,}', ha='center', va='bottom')\n",
    "\n",
    "plt.title('Bike Rentals: Working Day vs Holiday')\n",
    "plt.ylabel('Number of Rentals')\n",
    "plt.tight_layout()\n",
    "plt.show()\n"
   ]
  },
  {
   "cell_type": "markdown",
   "id": "21400185",
   "metadata": {},
   "source": [
    "- The chart clearly shows that bike rentals are much higher on working days compared to holidays. \n",
    "- This likely reflects commuter usage, where people rent bikes to get to work or school on regular weekdays."
   ]
  },
  {
   "cell_type": "markdown",
   "id": "ab9fecba",
   "metadata": {},
   "source": [
    "### Doing Analysis\n",
    "\n",
    "- We employ the t-test rather than the z-test because, despite having large samples (both samples contain more than 30 observations), we are unaware of the population standard deviation (σ).\n",
    "- We must determine whether the specified data groups have the same variance before doing the two-sample t-test."
   ]
  },
  {
   "cell_type": "code",
   "execution_count": 12,
   "id": "169cc680",
   "metadata": {},
   "outputs": [
    {
     "data": {
      "text/plain": [
       "(32943.901106481346, 28233.99150132856)"
      ]
     },
     "execution_count": 12,
     "metadata": {},
     "output_type": "execute_result"
    }
   ],
   "source": [
    "# bike rent on weekdays\n",
    "data_group1 = df[df['holiday']==0]['count'].values\n",
    "\n",
    "# bike rent on weekend\n",
    "data_group2 = df[df['holiday']==1]['count'].values\n",
    "\n",
    "# varience\n",
    "np.var(data_group1), np.var(data_group2)"
   ]
  },
  {
   "cell_type": "markdown",
   "id": "d9a174fd",
   "metadata": {},
   "source": [
    "Based on the values, the variances can be considered approximately equal, so we can proceed with the standard two-sample t-test."
   ]
  },
  {
   "cell_type": "markdown",
   "id": "450bc9c1",
   "metadata": {},
   "source": [
    "\n",
    "\n",
    "*   To calculate two sample proportion z test, we can use stats.ttest_ind\n",
    "1. import library\n",
    "  - from scipy import stats\n",
    "2. Use function `stats.ttest_ind(a=...., b=...., equal_var=True/False)`\n",
    "  - `a`: First data group\n",
    "  - `b`: Second data group\n",
    "  - `equal_var = True` : The standard independent two sample t-test will be conducted by taking into consideration the equal population variances.\n",
    "  - `equal_var = False` : The Welch’s t-test will be conducted by not taking into consideration the equal population variances.\n",
    "\n",
    "3. The function will be able to return 2 output, namely statistic test and p_value.\n",
    "\n",
    "\n",
    "\n",
    "\n"
   ]
  },
  {
   "cell_type": "code",
   "execution_count": 13,
   "id": "dde343d3",
   "metadata": {},
   "outputs": [],
   "source": [
    "from scipy import stats\n",
    "result = stats.ttest_ind(a = data_group1,\n",
    "                         b = data_group2,\n",
    "                         equal_var=True, # don't need to use it because the default is true\n",
    "                         alternative= 'greater')"
   ]
  },
  {
   "cell_type": "code",
   "execution_count": 14,
   "id": "0068ad4f",
   "metadata": {},
   "outputs": [
    {
     "data": {
      "text/plain": [
       "0.28684619416355517"
      ]
     },
     "execution_count": 14,
     "metadata": {},
     "output_type": "execute_result"
    }
   ],
   "source": [
    "result.pvalue"
   ]
  },
  {
   "cell_type": "code",
   "execution_count": 15,
   "id": "1cd44cd9",
   "metadata": {},
   "outputs": [
    {
     "data": {
      "text/plain": [
       "0.5626388963477119"
      ]
     },
     "execution_count": 15,
     "metadata": {},
     "output_type": "execute_result"
    }
   ],
   "source": [
    "result.statistic"
   ]
  },
  {
   "cell_type": "code",
   "execution_count": 16,
   "id": "be53feb1",
   "metadata": {},
   "outputs": [
    {
     "name": "stdout",
     "output_type": "stream",
     "text": [
      "Failed to reject the Null hypothesis\n"
     ]
    }
   ],
   "source": [
    "# menentukan aturan keputusan\n",
    "if result.pvalue < 0.05:\n",
    "    print('Reject the null hypothesis')\n",
    "else:\n",
    "    print('Failed to reject the Null hypothesis')"
   ]
  },
  {
   "cell_type": "markdown",
   "id": "879f2697",
   "metadata": {},
   "source": [
    "Based on the statistical analysis, there is enough evidence to suggest that working days have a significant effect on the number of electric cycles rented"
   ]
  },
  {
   "cell_type": "markdown",
   "id": "384b963a",
   "metadata": {},
   "source": [
    "Degree of freedom from two-samples"
   ]
  },
  {
   "cell_type": "code",
   "execution_count": 17,
   "id": "9ea9527d",
   "metadata": {},
   "outputs": [
    {
     "data": {
      "text/plain": [
       "10884"
      ]
     },
     "execution_count": 17,
     "metadata": {},
     "output_type": "execute_result"
    }
   ],
   "source": [
    "df_data = len(data_group1)+len(data_group2)-2\n",
    "df_data"
   ]
  },
  {
   "cell_type": "code",
   "execution_count": 21,
   "id": "75ca57a2",
   "metadata": {},
   "outputs": [
    {
     "data": {
      "text/plain": [
       "Text(0.5, 1.0, 't Distribution Plot with df = 10884 \\n\\n t-statistic = 0.5626, t_crit = 1.645, alpha = 0.05')"
      ]
     },
     "execution_count": 21,
     "metadata": {},
     "output_type": "execute_result"
    },
    {
     "data": {
      "image/png": "[encoded data removed]",
      "text/plain": [
       "<Figure size 640x480 with 1 Axes>"
      ]
     },
     "metadata": {},
     "output_type": "display_data"
    }
   ],
   "source": [
    "# plot sample distribution\n",
    "x = np.arange(-4, 8, 0.001)\n",
    "plt.plot(x, stats.t.pdf(x, df = df_data),\n",
    "         color='blue')\n",
    "\n",
    "# plot alpha region\n",
    "x_alpha = np.arange(stats.t.ppf(1-0.05, df = df_data), 4, 0.01)\n",
    "y_alpha = stats.t.pdf(x_alpha, df = df_data)\n",
    "plt.fill_between(x = x_alpha,\n",
    "                 y1 = y_alpha,\n",
    "                 facecolor = 'red',\n",
    "                 alpha = 0.35, \n",
    "                 label = 'alpha')\n",
    "\n",
    "# plot pvalue\n",
    "x_pvalue = np.arange(result.statistic, 4, 0.01)\n",
    "y_pvalue = stats.t.pdf(x_pvalue, df = df_data)\n",
    "\n",
    "plt.fill_between(x = x_pvalue,\n",
    "                 y1 = y_pvalue,\n",
    "                 facecolor = 'green',\n",
    "                 alpha = 0.35,\n",
    "                 label = 'pvalue')\n",
    "\n",
    "# plot t-crit and t-stats\n",
    "plt.axvline(np.round(result.statistic, 4),\n",
    "            color = 'green',\n",
    "            linestyle = '--',\n",
    "            label = 't-stat')\n",
    "\n",
    "t_crit = np.round(stats.t.ppf(1-0.05, df =df_data), 4)\n",
    "plt.axvline(t_crit,\n",
    "            color = 'red',\n",
    "            linestyle = '--',\n",
    "            label = 't-crit')\n",
    "\n",
    "plt.legend()\n",
    "plt.xlabel('t')\n",
    "plt.ylabel('density')\n",
    "\n",
    "plt.title(f't Distribution Plot with df = {df_data} \\n\\n t-statistic = {np.round(result.statistic, 4)}, t_crit = {np.round(t_crit,4)}, alpha = 0.05')"
   ]
  },
  {
   "cell_type": "code",
   "execution_count": 19,
   "id": "67c6dadd",
   "metadata": {},
   "outputs": [
    {
     "name": "stdout",
     "output_type": "stream",
     "text": [
      "Confidence Interval : [ -13.22789740496096 24.955580087986096 ]\n"
     ]
    }
   ],
   "source": [
    "from statsmodels.stats.weightstats import DescrStatsW, CompareMeans\n",
    "\n",
    "cm = CompareMeans(d1 = DescrStatsW(data=data_group1), \n",
    "                  d2 = DescrStatsW(data=data_group2))\n",
    "\n",
    "lower, upper = cm.tconfint_diff(alpha=0.05, \n",
    "                                alternative='two-sided', \n",
    "                                usevar='unequal')\n",
    "\n",
    "print(\"Confidence Interval\", \":\", \"[\", lower, upper, \"]\")"
   ]
  },
  {
   "cell_type": "markdown",
   "id": "18bfdf9c",
   "metadata": {},
   "source": [
    "We are 95% confident that the true difference in the average number of bike rentals between non-holidays and holidays lies between -13.2 and 24.9 bikes."
   ]
  },
  {
   "cell_type": "markdown",
   "id": "8bf9ba6b",
   "metadata": {},
   "source": [
    "### Conclusion\n",
    "\n",
    "The p-value of 0.287 is greater than the significance level of 0.05, therefore we fail to reject the null hypothesis. This suggests that there is no statistically significant difference in the average number of bike rentals between non-holidays and holidays.\n",
    "\n",
    "The 95% confidence interval for the difference in bike rentals between working days and holidays is from -13.2 to 24.9. Since this interval includes 0, it supports the conclusion that the difference is not statistically significant."
   ]
  },
  {
   "cell_type": "markdown",
   "id": "bda13e36",
   "metadata": {},
   "source": []
  }
 ],
 "metadata": {
  "kernelspec": {
   "display_name": "base",
   "language": "python",
   "name": "python3"
  },
  "language_info": {
   "codemirror_mode": {
    "name": "ipython",
    "version": 3
   },
   "file_extension": ".py",
   "mimetype": "text/x-python",
   "name": "python",
   "nbconvert_exporter": "python",
   "pygments_lexer": "ipython3",
   "version": "3.11.9"
  }
 },
 "nbformat": 4,
 "nbformat_minor": 5
}
